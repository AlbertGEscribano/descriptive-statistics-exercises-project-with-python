{
 "cells": [
  {
   "cell_type": "markdown",
   "id": "ac622319",
   "metadata": {},
   "source": [
    "# Descriptive statistics problems"
   ]
  },
  {
   "cell_type": "markdown",
   "id": "5e0ab0d5",
   "metadata": {},
   "source": [
    "### Exercise 1\n",
    "\n",
    "We will use NumPy to obtain information to describe statistically.\n",
    "\n",
    "- Generate an array of 100 elements following a normal distribution.\n",
    "- Generate an array of 100 elements following a chi-square distribution with 3 degrees of freedom.\n",
    "- Calculate the main metrics and statistical measures that best describe the two vectors."
   ]
  },
  {
   "cell_type": "code",
   "execution_count": 9,
   "id": "34720ab6",
   "metadata": {},
   "outputs": [
    {
     "name": "stdout",
     "output_type": "stream",
     "text": [
      "Distribución Normal:\n",
      "Media: 0.10812453788343873, Mediana: 0.04006666779891713, Varianza: 0.8675255731407772, Desviación Estándar: 0.9314105287899516\n",
      "Rango: 5.642943833822283, Asimetría: 0.13278184113437308, Curtosis: 0.38167454396258194\n",
      "\n",
      "Distribución Chi-cuadrado:\n",
      "Media: 2.9160884684865582, Mediana: 2.1986085883085926, Varianza: 5.699443092232363, Desviación Estándar: 2.3873506429161937\n",
      "Rango: 13.729593371876064, Asimetría: 1.5724033806467463, Curtosis: 3.4152488779758743\n"
     ]
    }
   ],
   "source": [
    "# TODO\n",
    "import numpy as np\n",
    "from scipy.stats import skew, kurtosis\n",
    "\n",
    "\n",
    "normal_distribution_narray = np.random.normal(loc=0, scale=1,size=100)\n",
    "# print(normal_distribution_narray)\n",
    "\n",
    "chi_squared_array = np.random.chisquare(df=3, size=100)\n",
    "# print(chi_squarred_array)\n",
    "\n",
    "# Medidas para la distribución normal\n",
    "normal_mean = np.mean(normal_distribution_narray)\n",
    "normal_median = np.median(normal_distribution_narray)\n",
    "normal_variance = np.var(normal_distribution_narray)\n",
    "normal_std = np.std(normal_distribution_narray)\n",
    "normal_range = np.ptp(normal_distribution_narray)  # Máx - mín\n",
    "normal_skew = skew(normal_distribution_narray)\n",
    "normal_kurtosis = kurtosis(normal_distribution_narray)\n",
    "\n",
    "# Medidas para la distribución chi-cuadrado\n",
    "chi_mean = np.mean(chi_squared_array)\n",
    "chi_median = np.median(chi_squared_array)\n",
    "chi_variance = np.var(chi_squared_array)\n",
    "chi_std = np.std(chi_squared_array)\n",
    "chi_range = np.ptp(chi_squared_array)\n",
    "chi_skew = skew(chi_squared_array)\n",
    "chi_kurtosis = kurtosis(chi_squared_array)\n",
    "\n",
    "print(\"Distribución Normal:\")\n",
    "print(f\"Media: {normal_mean}, Mediana: {normal_median}, Varianza: {normal_variance}, Desviación Estándar: {normal_std}\")\n",
    "print(f\"Rango: {normal_range}, Asimetría: {normal_skew}, Curtosis: {normal_kurtosis}\\n\")\n",
    "\n",
    "print(\"Distribución Chi-cuadrado:\")\n",
    "print(f\"Media: {chi_mean}, Mediana: {chi_median}, Varianza: {chi_variance}, Desviación Estándar: {chi_std}\")\n",
    "print(f\"Rango: {chi_range}, Asimetría: {chi_skew}, Curtosis: {chi_kurtosis}\")\n",
    "\n",
    "\n"
   ]
  },
  {
   "cell_type": "markdown",
   "id": "46c70c3d",
   "metadata": {},
   "source": [
    "### Exercise 2\n",
    "\n",
    "Write a Python program to calculate the standard deviation of the following data:\n",
    "\n",
    "```py\n",
    "data = [4, 2, 5, 8, 6]\n",
    "```"
   ]
  },
  {
   "cell_type": "code",
   "execution_count": 10,
   "id": "d590308e",
   "metadata": {},
   "outputs": [
    {
     "name": "stdout",
     "output_type": "stream",
     "text": [
      "Media 5.0\n",
      "Diferencias al cuadrado [1.0, 9.0, 0.0, 9.0, 1.0]\n",
      "Varianza 5.0\n",
      "Desviación estandard: 2.23606797749979\n"
     ]
    }
   ],
   "source": [
    "# TODO\n",
    "import math\n",
    "\n",
    "data = [4, 2, 5, 8, 6]\n",
    "\n",
    "# calculamos la media\n",
    "n = len(data)\n",
    "mean = sum(data) / n\n",
    "print(\"Media\", mean)\n",
    "\n",
    "# calculamos las diferencias al cuadrado\n",
    "squared_diffs = [(x -mean)**2 for x in data]\n",
    "print(\"Diferencias al cuadrado\", squared_diffs)\n",
    "\n",
    "# calculamos la varianza \n",
    "variance = sum(squared_diffs) / (n-1)\n",
    "print(\"Varianza\", variance)\n",
    "\n",
    "# calculamos la desviación standard\n",
    "std_deviation = math.sqrt(variance)\n",
    "print(\"Desviación estandard:\", std_deviation)\n",
    "\n",
    "\n"
   ]
  }
 ],
 "metadata": {
  "kernelspec": {
   "display_name": "Albert",
   "language": "python",
   "name": "python3"
  },
  "language_info": {
   "codemirror_mode": {
    "name": "ipython",
    "version": 3
   },
   "file_extension": ".py",
   "mimetype": "text/x-python",
   "name": "python",
   "nbconvert_exporter": "python",
   "pygments_lexer": "ipython3",
   "version": "3.11.10"
  }
 },
 "nbformat": 4,
 "nbformat_minor": 5
}
